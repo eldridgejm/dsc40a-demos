{
 "cells": [
  {
   "cell_type": "code",
   "execution_count": null,
   "metadata": {},
   "outputs": [],
   "source": [
    "import numpy as np\n",
    "import sklearn.datasets\n",
    "import matplotlib.pyplot as plt\n",
    "from matplotlib.offsetbox import AnnotationBbox, OffsetImage\n",
    "\n",
    "%matplotlib inline\n",
    "plt.rcParams['figure.figsize'] = (8,8)"
   ]
  },
  {
   "cell_type": "markdown",
   "metadata": {},
   "source": [
    "# MNIST data\n",
    "\n",
    "Now let's look at a slightly larger and more interesting dataset: the MNIST handwritten image dataset."
   ]
  },
  {
   "cell_type": "code",
   "execution_count": null,
   "metadata": {},
   "outputs": [],
   "source": [
    "thin_by = 3\n",
    "mnist_data = np.load('../data/mnist.npz')\n",
    "mnist_train_features = mnist_data['train'].T.astype(float)[::thin_by]\n",
    "mnist_train_labels = mnist_data['train_labels'].flatten()[::thin_by]\n",
    "mnist_test_features = mnist_data['test'].T.astype(float)[::thin_by]\n",
    "mnist_test_labels = mnist_data['test_labels'].flatten()[::thin_by]"
   ]
  },
  {
   "cell_type": "markdown",
   "metadata": {},
   "source": [
    "Our data is now in a $20,000 \\times 784$ array. There are 20,000 examples, each being a 784-dimensional vector."
   ]
  },
  {
   "cell_type": "code",
   "execution_count": null,
   "metadata": {},
   "outputs": [],
   "source": [
    "mnist_train_features.shape"
   ]
  },
  {
   "cell_type": "code",
   "execution_count": null,
   "metadata": {},
   "outputs": [],
   "source": [
    "mnist_train_features[0]"
   ]
  },
  {
   "cell_type": "markdown",
   "metadata": {},
   "source": [
    "Each of these vectors is actually a 28x28 image, \"flattened\" into a vector. We can reshape and visualize it:"
   ]
  },
  {
   "cell_type": "code",
   "execution_count": null,
   "metadata": {},
   "outputs": [],
   "source": [
    "plt.imshow(mnist_train_features[8_000].reshape(28, -1), cmap='gray')\n",
    "plt.xticks([])\n",
    "plt.yticks([])\n",
    "plt.savefig('three.pdf', bbox_inches='tight')"
   ]
  },
  {
   "cell_type": "markdown",
   "metadata": {},
   "source": [
    "## Classification"
   ]
  },
  {
   "cell_type": "markdown",
   "metadata": {},
   "source": [
    "First, we'll separate the data into training and testing sets."
   ]
  },
  {
   "cell_type": "code",
   "execution_count": null,
   "metadata": {},
   "outputs": [],
   "source": [
    "noisy_mnist_train_features = mnist_train_features + 10*np.random.normal(0, 1, size=mnist_train_features.shape)"
   ]
  },
  {
   "cell_type": "code",
   "execution_count": null,
   "metadata": {},
   "outputs": [],
   "source": [
    "train_is_seven = mnist_train_labels == 7\n",
    "train_is_three = mnist_train_labels == 3\n",
    "\n",
    "training_sevens = noisy_mnist_train_features[train_is_seven]\n",
    "training_threes = noisy_mnist_train_features[train_is_three]\n",
    "\n",
    "test_is_seven = mnist_test_labels == 7\n",
    "test_is_three = mnist_test_labels == 3\n",
    "\n",
    "testing_sevens = mnist_test_features[test_is_seven]\n",
    "testing_threes = mnist_test_features[test_is_three]"
   ]
  },
  {
   "cell_type": "code",
   "execution_count": null,
   "metadata": {},
   "outputs": [],
   "source": [
    "X = np.vstack([training_sevens, training_threes])\n",
    "X = np.column_stack([np.ones(X.shape[0]), X])\n",
    "y = np.concatenate([\n",
    "    np.ones(train_is_seven.sum()),\n",
    "    np.zeros(train_is_three.sum())\n",
    "])\n",
    "\n",
    "X_test = np.vstack([testing_sevens, testing_threes])\n",
    "X_test = np.column_stack([np.ones(X_test.shape[0]), X_test])\n",
    "y_test = np.concatenate([\n",
    "    np.ones(test_is_seven.sum()),\n",
    "    np.zeros(test_is_three.sum())\n",
    "])"
   ]
  },
  {
   "cell_type": "markdown",
   "metadata": {},
   "source": [
    "Now we train the model:"
   ]
  },
  {
   "cell_type": "code",
   "execution_count": null,
   "metadata": {},
   "outputs": [],
   "source": [
    "w = np.linalg.solve(X.T @ X, X.T @ y)"
   ]
  },
  {
   "cell_type": "markdown",
   "metadata": {},
   "source": [
    "And we can test it:"
   ]
  },
  {
   "cell_type": "code",
   "execution_count": null,
   "metadata": {
    "scrolled": false
   },
   "outputs": [],
   "source": [
    "for i in range(20):\n",
    "    ix = np.random.choice(len(X_test))\n",
    "    x = X_test[ix]\n",
    "    plt.matshow(x[1:].reshape((28, -1)))\n",
    "    prediction = 7 if w @ x > .5 else 3\n",
    "    plt.title(f'I think that this is a {prediction}.')\n",
    "    "
   ]
  },
  {
   "cell_type": "markdown",
   "metadata": {},
   "source": [
    "We can also take a look at the images that were misclassified."
   ]
  },
  {
   "cell_type": "code",
   "execution_count": null,
   "metadata": {},
   "outputs": [],
   "source": [
    "misclassified = X_test[((X_test @ w) > .5).astype(int) != y_test]\n",
    "misclassified"
   ]
  },
  {
   "cell_type": "code",
   "execution_count": null,
   "metadata": {
    "scrolled": false
   },
   "outputs": [],
   "source": [
    "for i in range(10):\n",
    "    plt.matshow(misclassified[i, 1:].reshape((28, -1)))"
   ]
  }
 ],
 "metadata": {
  "kernelspec": {
   "display_name": "Python 3",
   "language": "python",
   "name": "python3"
  },
  "language_info": {
   "codemirror_mode": {
    "name": "ipython",
    "version": 3
   },
   "file_extension": ".py",
   "mimetype": "text/x-python",
   "name": "python",
   "nbconvert_exporter": "python",
   "pygments_lexer": "ipython3",
   "version": "3.8.1"
  }
 },
 "nbformat": 4,
 "nbformat_minor": 2
}
