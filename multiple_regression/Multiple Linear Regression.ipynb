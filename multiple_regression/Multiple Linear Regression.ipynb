{
 "cells": [
  {
   "cell_type": "markdown",
   "metadata": {},
   "source": [
    "# Multiple Linear Regression"
   ]
  },
  {
   "cell_type": "code",
   "execution_count": null,
   "metadata": {},
   "outputs": [],
   "source": [
    "import pandas as pd\n",
    "import numpy as np\n",
    "import matplotlib.pyplot as plt\n",
    "from mpl_toolkits.mplot3d import Axes3D\n",
    "\n",
    "%matplotlib notebook"
   ]
  },
  {
   "cell_type": "markdown",
   "metadata": {},
   "source": [
    "Here is a data set of sales figures from different stores."
   ]
  },
  {
   "cell_type": "code",
   "execution_count": null,
   "metadata": {},
   "outputs": [],
   "source": [
    "data = pd.read_csv('sales.csv')\n",
    "data"
   ]
  },
  {
   "cell_type": "markdown",
   "metadata": {},
   "source": [
    "Let's try to predict net sales from two variables: the square footage (size) of the store, and the number of competing stores in the area. Our model will be:\n",
    "\n",
    "$$\n",
    "\\text{net sales} \\approx b_0 + b_1 \\times \\text{sqft} + b_2 \\times \\text{competitors}\n",
    "$$\n",
    "\n",
    "Do you expect $b_1$ to be positive or negative? What about $b_2$?\n",
    "\n",
    "Let's plot the data.\n",
    "\n",
    "**Note**: the plot below is interactive. Try clicking and dragging to move the camera."
   ]
  },
  {
   "cell_type": "code",
   "execution_count": null,
   "metadata": {},
   "outputs": [],
   "source": [
    "sq_ft = np.asarray(data['sq_ft'])\n",
    "competing = np.asarray(data['competing_stores'])\n",
    "net_sales = np.asarray(data['net_sales'])\n",
    "\n",
    "%matplotlib notebook\n",
    "fig = plt.figure()\n",
    "ax = fig.add_subplot(111, projection='3d')\n",
    "ax.scatter(sq_ft, competing, net_sales)\n",
    "plt.xlabel('sq_ft')\n",
    "plt.ylabel('competing_stores')"
   ]
  },
  {
   "cell_type": "markdown",
   "metadata": {},
   "source": [
    "Our design matrix is:\n",
    "    \n",
    "$$\n",
    "\\begin{pmatrix}\n",
    " 1 & s_1 & c_1\\\\\n",
    " 1 & s_2 & c_2\\\\\n",
    " \\vdots & \\vdots & \\vdots\\\\\n",
    " 1 & s_n & c_n\n",
    "\\end{pmatrix}\n",
    "$$\n",
    "\n",
    "where $s_i$ is the size of the $i$th store, and $c_n$ is the number of competitors. In code:"
   ]
  },
  {
   "cell_type": "code",
   "execution_count": null,
   "metadata": {},
   "outputs": [],
   "source": [
    "X = np.column_stack((\n",
    "    np.ones_like(sq_ft),\n",
    "    sq_ft,\n",
    "    competing\n",
    "))"
   ]
  },
  {
   "cell_type": "markdown",
   "metadata": {},
   "source": [
    "Solving the system $X^\\intercal X \\vec b = X^\\intercal \\vec y$:"
   ]
  },
  {
   "cell_type": "code",
   "execution_count": null,
   "metadata": {},
   "outputs": [],
   "source": [
    "b = np.linalg.solve(X.T @ X, X.T @ net_sales)\n",
    "b"
   ]
  },
  {
   "cell_type": "markdown",
   "metadata": {},
   "source": [
    "The function $h$ that we have fit is not a line; it is a plane:"
   ]
  },
  {
   "cell_type": "code",
   "execution_count": null,
   "metadata": {
    "scrolled": false
   },
   "outputs": [],
   "source": [
    "fig = plt.figure()\n",
    "ax = fig.add_subplot(111, projection='3d')\n",
    "ax.scatter(sq_ft, competing, net_sales)\n",
    "plt.xlabel('sq_ft')\n",
    "plt.ylabel('competing_stores')\n",
    "\n",
    "XX, YY = np.mgrid[1:10:2, 0:16:2]\n",
    "Z = b[0] + b[1]*XX + b[2]*YY\n",
    "ax.plot_wireframe(XX, YY, Z, color='black', alpha=.5)"
   ]
  },
  {
   "cell_type": "markdown",
   "metadata": {},
   "source": [
    "Now we will compare our predictions to the observed sales. The plot below shows the actual sales for store $i$ as a red dot at $(i, \\vec y_i)$, and the predicted sales as a blue dot at $(i, \\vec h_i)$, where $\\vec h = X \\vec b$ is the vector of predictions."
   ]
  },
  {
   "cell_type": "code",
   "execution_count": null,
   "metadata": {},
   "outputs": [],
   "source": [
    "np.arange(len(net_sales)), net_sales"
   ]
  },
  {
   "cell_type": "code",
   "execution_count": null,
   "metadata": {},
   "outputs": [],
   "source": [
    "plt.figure()\n",
    "plt.scatter(np.arange(len(net_sales)), X @ b, label='Prediction', color='C0')\n",
    "plt.scatter(np.arange(len(net_sales)), net_sales, label='Observation', color='C3')\n",
    "plt.legend(loc='upper left')"
   ]
  },
  {
   "cell_type": "markdown",
   "metadata": {},
   "source": [
    "The predictions were made using two predictor variables: the size of the store and the number of competitors in the store's district. Now let's try to use all of the predictor variables available to us in order to make more accurate predictions.\n",
    "\n",
    "First, we make the design matrix. It consists of everything in `data` except for the first column (which contains the observations)."
   ]
  },
  {
   "cell_type": "code",
   "execution_count": null,
   "metadata": {},
   "outputs": [],
   "source": [
    "X_full = data.iloc[:,1:].values"
   ]
  },
  {
   "cell_type": "markdown",
   "metadata": {},
   "source": [
    "Now we solve for the parameter vector, $\\vec b$:"
   ]
  },
  {
   "cell_type": "code",
   "execution_count": null,
   "metadata": {},
   "outputs": [],
   "source": [
    "b_full = np.linalg.solve(X_full.T @ X_full, X_full.T @ net_sales)"
   ]
  },
  {
   "cell_type": "markdown",
   "metadata": {},
   "source": [
    "Now we'll make the same plot as above, but with a green point for every store: the prediction resulting from using all of the predictor variables. The red dot is again the \"true\" observation. Uncomment the line below to compare these new predictions with the old predictions."
   ]
  },
  {
   "cell_type": "code",
   "execution_count": null,
   "metadata": {},
   "outputs": [],
   "source": [
    "plt.figure()\n",
    "plt.scatter(np.arange(len(net_sales)), X_full @ b_full, label='All Predictors', color='C2')\n",
    "# plt.scatter(np.arange(len(net_sales)), X @ b, label='Two Predictors', color='C0')\n",
    "plt.scatter(np.arange(len(net_sales)), net_sales, label='Observations', color='C3')\n",
    "plt.legend(loc='upper left')"
   ]
  }
 ],
 "metadata": {
  "kernelspec": {
   "display_name": "Python 3",
   "language": "python",
   "name": "python3"
  },
  "language_info": {
   "codemirror_mode": {
    "name": "ipython",
    "version": 3
   },
   "file_extension": ".py",
   "mimetype": "text/x-python",
   "name": "python",
   "nbconvert_exporter": "python",
   "pygments_lexer": "ipython3",
   "version": "3.6.5"
  }
 },
 "nbformat": 4,
 "nbformat_minor": 2
}
